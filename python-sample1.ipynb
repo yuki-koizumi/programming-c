{
  "nbformat": 4,
  "nbformat_minor": 0,
  "metadata": {
    "colab": {
      "provenance": [],
      "authorship_tag": "ABX9TyNVFrFnF7tpettvdLe7Ht10",
      "include_colab_link": true
    },
    "kernelspec": {
      "name": "python3",
      "display_name": "Python 3"
    },
    "language_info": {
      "name": "python"
    }
  },
  "cells": [
    {
      "cell_type": "markdown",
      "metadata": {
        "id": "view-in-github",
        "colab_type": "text"
      },
      "source": [
        "<a href=\"https://colab.research.google.com/github/yuki-koizumi/programming-c/blob/main/python-sample1.ipynb\" target=\"_parent\"><img src=\"https://colab.research.google.com/assets/colab-badge.svg\" alt=\"Open In Colab\"/></a>"
      ]
    },
    {
      "cell_type": "markdown",
      "source": [],
      "metadata": {
        "id": "aJQp43BNNVOr"
      }
    },
    {
      "cell_type": "markdown",
      "source": [
        "# プログラミングC"
      ],
      "metadata": {
        "id": "mgV4Qi6-NW_K"
      }
    },
    {
      "cell_type": "code",
      "execution_count": null,
      "metadata": {
        "id": "UCPu0cOYNUni"
      },
      "outputs": [],
      "source": []
    }
  ]
}