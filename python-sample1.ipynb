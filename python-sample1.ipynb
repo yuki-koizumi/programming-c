{
  "nbformat": 4,
  "nbformat_minor": 0,
  "metadata": {
    "colab": {
      "provenance": [],
      "authorship_tag": "ABX9TyNUfz8QUsHQ8vhcYtDO9NVl",
      "include_colab_link": true
    },
    "kernelspec": {
      "name": "python3",
      "display_name": "Python 3"
    },
    "language_info": {
      "name": "python"
    }
  },
  "cells": [
    {
      "cell_type": "markdown",
      "metadata": {
        "id": "view-in-github",
        "colab_type": "text"
      },
      "source": [
        "<a href=\"https://colab.research.google.com/github/yuki-koizumi/programming-c/blob/main/python-sample1.ipynb\" target=\"_parent\"><img src=\"https://colab.research.google.com/assets/colab-badge.svg\" alt=\"Open In Colab\"/></a>"
      ]
    },
    {
      "cell_type": "markdown",
      "source": [],
      "metadata": {
        "id": "aJQp43BNNVOr"
      }
    },
    {
      "cell_type": "markdown",
      "source": [
        "# プログラミングC"
      ],
      "metadata": {
        "id": "mgV4Qi6-NW_K"
      }
    },
    {
      "cell_type": "code",
      "execution_count": 6,
      "metadata": {
        "colab": {
          "base_uri": "https://localhost:8080/"
        },
        "id": "UCPu0cOYNUni",
        "outputId": "0cfae999-7b3b-486d-8538-e50e35e62dad"
      },
      "outputs": [
        {
          "output_type": "stream",
          "name": "stdout",
          "text": [
            "〒111-1111 豊中市○○○○○\n",
            "    東貞蔵 様\n",
            "〒222-2222 池田市△△△△△△\n",
            "    亀山君子 様\n",
            "〒333-3333 吹田市□□□□□□□□\n",
            "    佃友博 様\n",
            "〒444-4444 箕面市☆☆☆☆\n",
            "    柳原弘 様\n"
          ]
        }
      ],
      "source": [
        "meibo = \"\"\"東貞蔵 111-1111 豊中市○○○○○ azuma@xxx.xxxxx.ac.jp\n",
        "亀山君子 222-2222 池田市△△△△△△ kameyama@xxx.xxxxx.ac.jp\n",
        "佃友博 333-3333 吹田市□□□□□□□□ tsukuda@xxx.xxxxx.ac.jp\n",
        "柳原弘 444-4444 箕面市☆☆☆☆ yanagihara@xxx.xxxxx.ac.jp\"\"\"\n",
        "\n",
        "import re\n",
        "for line in meibo.split(\"\\n\"):\n",
        "    field = re.split(r\"\\s+\", line.strip())\n",
        "    print(f\"〒{field[1]} {field[2]}\")\n",
        "    print(f\"    {field[0]} 様\")"
      ]
    }
  ]
}